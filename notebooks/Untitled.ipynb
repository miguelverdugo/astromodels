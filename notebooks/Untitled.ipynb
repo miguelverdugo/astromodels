{
 "cells": [
  {
   "cell_type": "code",
   "execution_count": 3,
   "metadata": {},
   "outputs": [],
   "source": [
    "from astromodels.astromodels import metropolis_sampler\n",
    "import numpy as np\n",
    "from astropy.modeling.models import Sersic1D, Sersic2D\n",
    "from astropy.modeling.core import Fittable1DModel, Parameter\n",
    "import matplotlib.pyplot as plt\n",
    "from astropy.visualization import hist\n",
    "from scipy.stats import rv_continuous\n",
    "import timeit\n",
    "from scipy.integrate import cumtrapz"
   ]
  },
  {
   "cell_type": "code",
   "execution_count": 5,
   "metadata": {},
   "outputs": [],
   "source": [
    "class Sersic1D(Fittable1DModel):\n",
    "    amplitude = Parameter(default=1)\n",
    "    r_eff = Parameter(default=1)\n",
    "    n = Parameter(default=4)\n",
    "    _gammaincinv = None\n",
    "\n",
    "    @classmethod\n",
    "    def evaluate(cls, r, amplitude, r_eff, n):\n",
    "        \"\"\"One dimensional Sersic profile function.\"\"\"\n",
    "\n",
    "        if cls._gammaincinv is None:\n",
    "            try:\n",
    "                from scipy.special import gammaincinv\n",
    "                cls._gammaincinv = gammaincinv\n",
    "            except ValueError:\n",
    "                raise ImportError('Sersic1D model requires scipy > 0.11.')\n",
    "\n",
    "        return (amplitude * np.exp(\n",
    "            -cls._gammaincinv(2 * n, 0.5) * ((r / r_eff) ** (1 / n) - 1)))\n",
    "    \n",
    "    def _pdf(self, r):\n",
    "        s = Sersic1D(amplitude=self.amplitude, r_eff=self.r_eff, n=self.n)\n",
    "        return s(r)\n",
    "\n",
    "sersic = Sersic1D(amplitude=1, r_eff=5, n=4)"
   ]
  },
  {
   "cell_type": "code",
   "execution_count": 9,
   "metadata": {},
   "outputs": [
    {
     "name": "stderr",
     "output_type": "stream",
     "text": [
      "<ipython-input-5-0cf490e502e1>:19: RuntimeWarning: invalid value encountered in power\n",
      "  -cls._gammaincinv(2 * n, 0.5) * ((r / r_eff) ** (1 / n) - 1)))\n"
     ]
    },
    {
     "name": "stdout",
     "output_type": "stream",
     "text": [
      "TIME metropolis:  11.78058847799548\n",
      "100000\n"
     ]
    }
   ],
   "source": [
    "N = int(1e5)\n",
    "\n",
    "start_time = timeit.default_timer()\n",
    "samples = metropolis_sampler(sersic, N)\n",
    "print(\"TIME metropolis: \", timeit.default_timer() - start_time)\n",
    "\n",
    "print(samples.size)\n"
   ]
  },
  {
   "cell_type": "code",
   "execution_count": 10,
   "metadata": {},
   "outputs": [
    {
     "data": {
      "text/plain": [
       "[]"
      ]
     },
     "execution_count": 10,
     "metadata": {},
     "output_type": "execute_result"
    },
    {
     "data": {
      "image/png": "[encoded data removed]",
      "text/plain": [
       "<Figure size 1008x936 with 1 Axes>"
      ]
     },
     "metadata": {
      "needs_background": "light"
     },
     "output_type": "display_data"
    }
   ],
   "source": [
    "fig = plt.figure(figsize=(14,13))\n",
    "\n",
    "bins = np.linspace(0,50, 200)\n",
    "hist(samples, bins=bins, alpha=0.8)\n",
    "plt.semilogy()"
   ]
  },
  {
   "cell_type": "code",
   "execution_count": 11,
   "metadata": {},
   "outputs": [
    {
     "name": "stdout",
     "output_type": "stream",
     "text": [
      "TIME metropolis: 6.6822401030076435\n"
     ]
    }
   ],
   "source": [
    "def gauss_pdf(x):\n",
    "    return np.exp(-x**2 / 2.) / np.sqrt(2.0 * np.pi)\n",
    "\n",
    "\n",
    "start_time = timeit.default_timer()\n",
    "N = 1000000\n",
    "samples = metropolis_sampler(gauss_pdf, N)\n",
    "\n",
    "print(\"TIME metropolis:\", timeit.default_timer() - start_time)\n",
    "\n"
   ]
  },
  {
   "cell_type": "code",
   "execution_count": 12,
   "metadata": {},
   "outputs": [
    {
     "data": {
      "text/plain": [
       "(array([1., 0., 0., ..., 0., 0., 1.]),\n",
       " array([-4.95986835, -4.95478714, -4.94970592, ...,  5.19239441,\n",
       "         5.19747562,  5.20255683]),\n",
       " <BarContainer object of 2000 artists>)"
      ]
     },
     "execution_count": 12,
     "metadata": {},
     "output_type": "execute_result"
    },
    {
     "data": {
      "image/png": "[encoded data removed]",
      "text/plain": [
       "<Figure size 1008x936 with 1 Axes>"
      ]
     },
     "metadata": {
      "needs_background": "light"
     },
     "output_type": "display_data"
    }
   ],
   "source": [
    "fig = plt.figure(figsize=(14,13))\n",
    "hist(samples, bins=2000, alpha=0.8)\n"
   ]
  },
  {
   "cell_type": "code",
   "execution_count": 13,
   "metadata": {},
   "outputs": [
    {
     "data": {
      "text/plain": [
       "0.39364394100717826"
      ]
     },
     "execution_count": 13,
     "metadata": {},
     "output_type": "execute_result"
    }
   ],
   "source": [
    "def uniform_proposal(x, delta=2.0, size):\n",
    "    return np.random.uniform(x - delta, x + delta, size=size)\n",
    "\n",
    "\n",
    "def metro(pdf, nsamples, proposal=uniform_proposal):\n",
    "    array = np.linspace(0,nsamples,1)\n",
    "    \n",
    "    trial = uniform_proposal()\n",
    "    \n",
    "    \n",
    "    "
   ]
  },
  {
   "cell_type": "code",
   "execution_count": 15,
   "metadata": {},
   "outputs": [
    {
     "data": {
      "text/plain": [
       "\u001b[0;31mDocstring:\u001b[0m\n",
       "uniform(low=0.0, high=1.0, size=None)\n",
       "\n",
       "Draw samples from a uniform distribution.\n",
       "\n",
       "Samples are uniformly distributed over the half-open interval\n",
       "``[low, high)`` (includes low, but excludes high).  In other words,\n",
       "any value within the given interval is equally likely to be drawn\n",
       "by `uniform`.\n",
       "\n",
       ".. note::\n",
       "    New code should use the ``uniform`` method of a ``default_rng()``\n",
       "    instance instead; please see the :ref:`random-quick-start`.\n",
       "\n",
       "Parameters\n",
       "----------\n",
       "low : float or array_like of floats, optional\n",
       "    Lower boundary of the output interval.  All values generated will be\n",
       "    greater than or equal to low.  The default value is 0.\n",
       "high : float or array_like of floats\n",
       "    Upper boundary of the output interval.  All values generated will be\n",
       "    less than or equal to high.  The default value is 1.0.\n",
       "size : int or tuple of ints, optional\n",
       "    Output shape.  If the given shape is, e.g., ``(m, n, k)``, then\n",
       "    ``m * n * k`` samples are drawn.  If size is ``None`` (default),\n",
       "    a single value is returned if ``low`` and ``high`` are both scalars.\n",
       "    Otherwise, ``np.broadcast(low, high).size`` samples are drawn.\n",
       "\n",
       "Returns\n",
       "-------\n",
       "out : ndarray or scalar\n",
       "    Drawn samples from the parameterized uniform distribution.\n",
       "\n",
       "See Also\n",
       "--------\n",
       "randint : Discrete uniform distribution, yielding integers.\n",
       "random_integers : Discrete uniform distribution over the closed\n",
       "                  interval ``[low, high]``.\n",
       "random_sample : Floats uniformly distributed over ``[0, 1)``.\n",
       "random : Alias for `random_sample`.\n",
       "rand : Convenience function that accepts dimensions as input, e.g.,\n",
       "       ``rand(2,2)`` would generate a 2-by-2 array of floats,\n",
       "       uniformly distributed over ``[0, 1)``.\n",
       "Generator.uniform: which should be used for new code.\n",
       "\n",
       "Notes\n",
       "-----\n",
       "The probability density function of the uniform distribution is\n",
       "\n",
       ".. math:: p(x) = \\frac{1}{b - a}\n",
       "\n",
       "anywhere within the interval ``[a, b)``, and zero elsewhere.\n",
       "\n",
       "When ``high`` == ``low``, values of ``low`` will be returned.\n",
       "If ``high`` < ``low``, the results are officially undefined\n",
       "and may eventually raise an error, i.e. do not rely on this\n",
       "function to behave when passed arguments satisfying that\n",
       "inequality condition. The ``high`` limit may be included in the\n",
       "returned array of floats due to floating-point rounding in the\n",
       "equation ``low + (high-low) * random_sample()``. For example:\n",
       "\n",
       ">>> x = np.float32(5*0.99999999)\n",
       ">>> x\n",
       "5.0\n",
       "\n",
       "\n",
       "Examples\n",
       "--------\n",
       "Draw samples from the distribution:\n",
       "\n",
       ">>> s = np.random.uniform(-1,0,1000)\n",
       "\n",
       "All values are within the given interval:\n",
       "\n",
       ">>> np.all(s >= -1)\n",
       "True\n",
       ">>> np.all(s < 0)\n",
       "True\n",
       "\n",
       "Display the histogram of the samples, along with the\n",
       "probability density function:\n",
       "\n",
       ">>> import matplotlib.pyplot as plt\n",
       ">>> count, bins, ignored = plt.hist(s, 15, density=True)\n",
       ">>> plt.plot(bins, np.ones_like(bins), linewidth=2, color='r')\n",
       ">>> plt.show()\n",
       "\u001b[0;31mType:\u001b[0m      builtin_function_or_method\n"
      ]
     },
     "metadata": {},
     "output_type": "display_data"
    }
   ],
   "source": [
    "np.random.uniform?"
   ]
  }
 ],
 "metadata": {
  "kernelspec": {
   "display_name": "Python 3",
   "language": "python",
   "name": "python3"
  },
  "language_info": {
   "codemirror_mode": {
    "name": "ipython",
    "version": 3
   },
   "file_extension": ".py",
   "mimetype": "text/x-python",
   "name": "python",
   "nbconvert_exporter": "python",
   "pygments_lexer": "ipython3",
   "version": "3.8.5"
  }
 },
 "nbformat": 4,
 "nbformat_minor": 4
}
