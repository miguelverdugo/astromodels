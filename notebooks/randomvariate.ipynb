{
 "cells": [
  {
   "cell_type": "code",
   "execution_count": 23,
   "metadata": {},
   "outputs": [],
   "source": [
    "import numpy as np\n",
    "from astropy.modeling.models import Sersic1D, Sersic2D\n",
    "import matplotlib.pyplot as plt\n",
    "from astropy.visualization import hist"
   ]
  },
  {
   "cell_type": "code",
   "execution_count": 2,
   "metadata": {},
   "outputs": [],
   "source": [
    "def randomvariate(pdf, n, xmin, xmax):\n",
    "    \"\"\"\n",
    "    Create random numbers according to an arbitrary PDF\n",
    "    Uses the rejection method for generating random numbers derived from an arbitrary   \n",
    "    probability distribution. For reference, see Bevington's book, page 84. Based on  \n",
    "    rejection*.py.\n",
    "    Usage:  \n",
    "    >>> randomvariate(P,N,xmin,xmax)  \n",
    "    where  \n",
    "    P : probability distribution function from which you want to generate random numbers  \n",
    "    N : desired number of random values  \n",
    "    xmin,xmax : range of random numbers desired  \n",
    "    \n",
    "    Returns:   \n",
    "    the sequence (ran,ntrials) where  \n",
    "    ran : array of shape N with the random variates that follow the input P  \n",
    "    ntrials : number of trials the code needed to achieve N  \n",
    "   \n",
    "    Here is the algorithm:  \n",
    "    - generate x' in the desired range  \n",
    "    - generate y' between Pmin and Pmax (Pmax is the maximal value of your pdf)  \n",
    "    - if y'<P(x') accept x', otherwise reject  \n",
    "    - repeat until desired number is achieved  \n",
    "   \n",
    "    Rodrigo Nemmen  \n",
    "    Nov. 2011  \n",
    "    \"\"\"\n",
    "    x = np.linspace(xmin, xmax, 10000)\n",
    "    y = pdf(x)\n",
    "    pmin = y.min()\n",
    "    pmax = y.max()\n",
    "    naccept = 0\n",
    "    ntrial = 0\n",
    "    ran = []\n",
    "    while naccept < n:\n",
    "        x = np.random.uniform(xmin, xmax)\n",
    "        y = np.random.uniform(pmin, pmax)\n",
    "        if y <= pdf(x):\n",
    "            ran.append(x)\n",
    "            naccept = naccept+1\n",
    "                #  print pdf(x)\n",
    "            ntrial = ntrial + 1\n",
    "\n",
    "    ran = np.asarray(ran)\n",
    "    return ran, ntrial\n",
    "    "
   ]
  },
  {
   "cell_type": "code",
   "execution_count": 50,
   "metadata": {},
   "outputs": [],
   "source": [
    "def rvs(pdf, n, xmin, xmax):\n",
    "    \"\"\"\n",
    "    Create random numbers according to an arbitrary PDF\n",
    "    Uses the rejection method for generating random numbers derived from an arbitrary   \n",
    "    probability distribution. For reference, see Bevington's book, page 84. Based on  \n",
    "    rejection*.py.\n",
    "    Usage:  \n",
    "    >>> randomvariate(P,N,xmin,xmax)  \n",
    "    where  \n",
    "    P : probability distribution function from which you want to generate random numbers  \n",
    "    N : desired number of random values  \n",
    "    xmin,xmax : range of random numbers desired  \n",
    "    \n",
    "    Returns:   \n",
    "    the sequence (ran,ntrials) where  \n",
    "    ran : array of shape N with the random variates that follow the input P  \n",
    "    ntrials : number of trials the code needed to achieve N  \n",
    "   \n",
    "    Here is the algorithm:  \n",
    "    - generate x' in the desired range  \n",
    "    - generate y' between Pmin and Pmax (Pmax is the maximal value of your pdf)  \n",
    "    - if y'<P(x') accept x', otherwise reject  \n",
    "    - repeat until desired number is achieved  \n",
    "   \n",
    "    Rodrigo Nemmen  \n",
    "    Nov. 2011  \n",
    "    \"\"\"\n",
    "    x = np.linspace(xmin, xmax, 1e9)\n",
    "    y = pdf(x)\n",
    "    pmin = y.min()\n",
    "    pmax = y.max()\n",
    "    naccept = 0\n",
    "    ntrial = 0\n",
    "    ran = []\n",
    "    X = np.random.uniform(xmin, xmax, len(x))\n",
    "    Y = np.random.uniform(pmin, pmax, len(x))\n",
    "    ran = X[Y<=pdf(X)]\n",
    "    return ran[:n]"
   ]
  },
  {
   "cell_type": "code",
   "execution_count": 37,
   "metadata": {},
   "outputs": [
    {
     "data": {
      "text/plain": [
       "100"
      ]
     },
     "execution_count": 37,
     "metadata": {},
     "output_type": "execute_result"
    }
   ],
   "source": []
  },
  {
   "cell_type": "code",
   "execution_count": 8,
   "metadata": {
    "collapsed": true,
    "jupyter": {
     "outputs_hidden": true
    }
   },
   "outputs": [
    {
     "data": {
      "image/png": "[encoded data removed]",
      "text/plain": [
       "<Figure size 432x288 with 1 Axes>"
      ]
     },
     "metadata": {
      "needs_background": "light"
     },
     "output_type": "display_data"
    }
   ],
   "source": [
    "plt.figure()\n",
    "plt.subplot(111, xscale='log', yscale='log')\n",
    "s1 = Sersic1D(amplitude=1, r_eff=5, n=4)\n",
    "r=np.arange(0, 100, .01)\n",
    "\n",
    "plt.plot(r, s1(r))\n",
    "\n",
    "plt.axis([1e-1, 30, 1e-2, 1e3])\n",
    "plt.xlabel('log Radius')\n",
    "plt.ylabel('log Surface Brightness')\n",
    "#plt.text(.25, 1.5, 'n=1')\n",
    "#plt.text(.25, 300, 'n=10')\n",
    "#plt.xticks([])\n",
    "#plt.yticks([])\n",
    "plt.show()"
   ]
  },
  {
   "cell_type": "code",
   "execution_count": 43,
   "metadata": {},
   "outputs": [],
   "source": [
    "ran, ntrial = randomvariate(s1, 1000, xmin=0, xmax=10)"
   ]
  },
  {
   "cell_type": "code",
   "execution_count": null,
   "metadata": {},
   "outputs": [],
   "source": [
    "ran = rvs(s1, 1000, xmin=0, xmax=10)"
   ]
  },
  {
   "cell_type": "code",
   "execution_count": 47,
   "metadata": {},
   "outputs": [
    {
     "data": {
      "image/png": "[encoded data removed]",
      "text/plain": [
       "<Figure size 432x288 with 1 Axes>"
      ]
     },
     "metadata": {
      "needs_background": "light"
     },
     "output_type": "display_data"
    }
   ],
   "source": [
    "\n",
    "hist(ran, bins=200)\n",
    "plt.semilogy()\n",
    "plt.show()"
   ]
  },
  {
   "cell_type": "code",
   "execution_count": 24,
   "metadata": {},
   "outputs": [
    {
     "data": {
      "image/png": "[encoded data removed]",
      "text/plain": [
       "<Figure size 576x576 with 2 Axes>"
      ]
     },
     "metadata": {
      "needs_background": "light"
     },
     "output_type": "display_data"
    }
   ],
   "source": [
    "x,y = np.meshgrid(np.arange(100), np.arange(100))\n",
    "\n",
    "mod = Sersic2D(amplitude = 1, r_eff = 25, n=4, x_0=50, y_0=50,\n",
    "               ellip=.5, theta=-1)\n",
    "img = mod(x, y)\n",
    "log_img = np.log10(img)\n",
    "\n",
    "plt.figure(figsize=(8,8))\n",
    "plt.imshow(log_img, origin='lower', interpolation='nearest',\n",
    "           vmin=-1, vmax=2)\n",
    "plt.xlabel('x')\n",
    "plt.ylabel('y')\n",
    "cbar = plt.colorbar()\n",
    "cbar.set_label('Log Brightness', rotation=270, labelpad=25)\n",
    "cbar.set_ticks([-1, 0, 1, 2], update_ticks=True)\n",
    "plt.show()"
   ]
  },
  {
   "cell_type": "code",
   "execution_count": 25,
   "metadata": {},
   "outputs": [
    {
     "ename": "TypeError",
     "evalue": "__call__() missing 1 required positional argument: 'y'",
     "output_type": "error",
     "traceback": [
      "\u001b[0;31m---------------------------------------------------------------------------\u001b[0m",
      "\u001b[0;31mTypeError\u001b[0m                                 Traceback (most recent call last)",
      "\u001b[0;32m<ipython-input-25-ee42e9a5699b>\u001b[0m in \u001b[0;36m<module>\u001b[0;34m\u001b[0m\n\u001b[0;32m----> 1\u001b[0;31m \u001b[0mran\u001b[0m\u001b[0;34m,\u001b[0m \u001b[0mntrial\u001b[0m \u001b[0;34m=\u001b[0m \u001b[0mrandomvariate\u001b[0m\u001b[0;34m(\u001b[0m\u001b[0mmod\u001b[0m\u001b[0;34m,\u001b[0m \u001b[0;36m1000\u001b[0m\u001b[0;34m,\u001b[0m \u001b[0mxmin\u001b[0m\u001b[0;34m=\u001b[0m\u001b[0;36m0\u001b[0m\u001b[0;34m,\u001b[0m \u001b[0mxmax\u001b[0m\u001b[0;34m=\u001b[0m\u001b[0;36m10\u001b[0m\u001b[0;34m)\u001b[0m\u001b[0;34m\u001b[0m\u001b[0;34m\u001b[0m\u001b[0m\n\u001b[0m",
      "\u001b[0;32m<ipython-input-2-d15462cf7542>\u001b[0m in \u001b[0;36mrandomvariate\u001b[0;34m(pdf, n, xmin, xmax)\u001b[0m\n\u001b[1;32m     27\u001b[0m     \"\"\"\n\u001b[1;32m     28\u001b[0m     \u001b[0mx\u001b[0m \u001b[0;34m=\u001b[0m \u001b[0mnp\u001b[0m\u001b[0;34m.\u001b[0m\u001b[0mlinspace\u001b[0m\u001b[0;34m(\u001b[0m\u001b[0mxmin\u001b[0m\u001b[0;34m,\u001b[0m \u001b[0mxmax\u001b[0m\u001b[0;34m,\u001b[0m \u001b[0;36m10000\u001b[0m\u001b[0;34m)\u001b[0m\u001b[0;34m\u001b[0m\u001b[0;34m\u001b[0m\u001b[0m\n\u001b[0;32m---> 29\u001b[0;31m     \u001b[0my\u001b[0m \u001b[0;34m=\u001b[0m \u001b[0mpdf\u001b[0m\u001b[0;34m(\u001b[0m\u001b[0mx\u001b[0m\u001b[0;34m)\u001b[0m\u001b[0;34m\u001b[0m\u001b[0;34m\u001b[0m\u001b[0m\n\u001b[0m\u001b[1;32m     30\u001b[0m     \u001b[0mpmin\u001b[0m \u001b[0;34m=\u001b[0m \u001b[0my\u001b[0m\u001b[0;34m.\u001b[0m\u001b[0mmin\u001b[0m\u001b[0;34m(\u001b[0m\u001b[0;34m)\u001b[0m\u001b[0;34m\u001b[0m\u001b[0;34m\u001b[0m\u001b[0m\n\u001b[1;32m     31\u001b[0m     \u001b[0mpmax\u001b[0m \u001b[0;34m=\u001b[0m \u001b[0my\u001b[0m\u001b[0;34m.\u001b[0m\u001b[0mmax\u001b[0m\u001b[0;34m(\u001b[0m\u001b[0;34m)\u001b[0m\u001b[0;34m\u001b[0m\u001b[0;34m\u001b[0m\u001b[0m\n",
      "\u001b[0;31mTypeError\u001b[0m: __call__() missing 1 required positional argument: 'y'"
     ]
    }
   ],
   "source": []
  }
 ],
 "metadata": {
  "kernelspec": {
   "display_name": "Python 3",
   "language": "python",
   "name": "python3"
  },
  "language_info": {
   "codemirror_mode": {
    "name": "ipython",
    "version": 3
   },
   "file_extension": ".py",
   "mimetype": "text/x-python",
   "name": "python",
   "nbconvert_exporter": "python",
   "pygments_lexer": "ipython3",
   "version": "3.7.3"
  }
 },
 "nbformat": 4,
 "nbformat_minor": 4
}
